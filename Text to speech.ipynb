{
 "cells": [
  {
   "cell_type": "code",
   "execution_count": 35,
   "id": "d500d278-9023-4143-bb48-bfbe57120298",
   "metadata": {},
   "outputs": [],
   "source": [
    "import tkinter as tk\n",
    "from tkinter import *\n",
    "from tkinter import filedialog\n",
    "from tkinter.ttk import Combobox\n",
    "import pyttsx3\n",
    "import os\n",
    "from gtts import gTTS\n",
    "from playsound import playsound\n",
    "from PIL import Image, ImageTk\n",
    "\n"
   ]
  },
  {
   "cell_type": "code",
   "execution_count": 36,
   "id": "2836cee7-1e9b-44d9-a36c-8ceba9c2c6f8",
   "metadata": {},
   "outputs": [],
   "source": [
    "root = Tk()\n",
    "root.title(\"Simplilearn Text to Speech converter\")\n",
    "root.geometry(\"1000x580+200+80\")\n",
    "root.resizable(False, False)\n",
    "root.configure(bg='#F7AC40')\n",
    "#root.mainloop()"
   ]
  },
  {
   "cell_type": "code",
   "execution_count": 37,
   "id": "b1673314-2c03-4374-9c56-561b9f31435f",
   "metadata": {},
   "outputs": [],
   "source": [
    "tts = pyttsx3.init()\n",
    "def speaknow():\n",
    "    text = text_box.get(1.0 ,END)\n",
    "    gender= gender_box.get()\n",
    "    speed = speed_box.get()\n",
    "    voices = tts.getProperty('voices')\n",
    "\n",
    "    def setvoice():\n",
    "        if(gender == 'Male'):\n",
    "            tts.setProperty('voice', voices[0].id)\n",
    "            tts.say(text)\n",
    "            tts.runAndWait()\n",
    "        else:\n",
    "            tts.setProperty('voice', voices[1].id)\n",
    "            tts.say(text)\n",
    "            tts.runAndWait()\n",
    "    if(text):\n",
    "        if(speed == 'Fast'):\n",
    "            tts.setProperty('rate',250)\n",
    "            setvoice()\n",
    "        elif(speed == 'Medium'):\n",
    "            tts.setProperty('rate', 150)\n",
    "            setvoice()\n",
    "        else:\n",
    "            tts.setProperty('rate',60)\n",
    "            setvoice()"
   ]
  },
  {
   "cell_type": "code",
   "execution_count": 38,
   "id": "6143732c-efa4-4034-a1ad-f9e5a45f808c",
   "metadata": {},
   "outputs": [],
   "source": [
    "#simpli_logo = PhotoImage(file = r\"C:\\Users\\zeyneb\\Pictures\\rose.png\")\n",
    "im = PhotoImage(file =  r\"C:\\Users\\zeyneb\\Pictures\\smpli.PNG\")\n",
    "Label(root, image= im, bg=\"#F7AC40\" ).place(x=830, y=530) \n",
    "#root.mainloop()"
   ]
  },
  {
   "cell_type": "code",
   "execution_count": 39,
   "id": "84bf9c16-4f26-4fab-9d38-e87cbce422ef",
   "metadata": {},
   "outputs": [],
   "source": [
    "imm = PhotoImage(file =  r\"C:\\Users\\zeyneb\\Pictures\\spee.PNG\")\n",
    "root.iconphoto(False, imm)\n",
    "#root.mainloop()"
   ]
  },
  {
   "cell_type": "code",
   "execution_count": 40,
   "id": "f061eda4-3e7b-46a8-807b-2edf10f92bf7",
   "metadata": {},
   "outputs": [],
   "source": [
    "up = Frame(root, bg=\"#3776ab\", width = 1200, height = 150)\n",
    "up.place(x=0, y=0)\n",
    "\n",
    "immm = PhotoImage(file =  r\"C:\\Users\\zeyneb\\Pictures\\spee.PNG\")\n",
    "Label(up, image= immm, bg=\"#3776ab\" ).place(x=150, y=20) \n",
    "\n",
    "#root.mainloop()"
   ]
  },
  {
   "cell_type": "code",
   "execution_count": 41,
   "id": "582a7ea3-4f6f-441f-ac5b-0c91837e57c3",
   "metadata": {},
   "outputs": [],
   "source": [
    "Label(up, text=\"Text to Speech Converter\", font=\"TimesNewroman 40 bold\", bg=\"#14A7DD\", fg='white').place(x=300, y=35)\n",
    "#root.mainloop()"
   ]
  },
  {
   "cell_type": "code",
   "execution_count": 42,
   "id": "da1d7e53-d589-4642-b017-be33e1ba4672",
   "metadata": {},
   "outputs": [],
   "source": [
    "text_box = Text(root, font=\"calibri 20\" , bg=\"white\" , relief = GROOVE, wrap= WORD, bd=0)\n",
    "text_box.place(x=30, y=150,width=940, height= 180)\n",
    "#  root.mainloop()"
   ]
  },
  {
   "cell_type": "code",
   "execution_count": 43,
   "id": "b422470d-3efe-499b-b2a7-a3559164c17d",
   "metadata": {},
   "outputs": [],
   "source": [
    "gender_box = Combobox(root, values=['Male','Female'], font = \"Robote 12\" , state='r' , width = 12)\n",
    "gender_box.place(x=340, y=400)\n",
    "gender_box.set('Female')\n",
    "#root.mainloop()"
   ]
  },
  {
   "cell_type": "code",
   "execution_count": 44,
   "id": "4a8c6e4d-4671-4244-846d-db896c1f3c9c",
   "metadata": {},
   "outputs": [],
   "source": [
    "speed_box = Combobox(root, values=['Fast','Medium','Slow'], font = \"Robote 12\" , state='r' , width = 12)\n",
    "speed_box.place(x=540, y=400)\n",
    "speed_box.set('Medium')\n",
    "#root.mainloop()"
   ]
  },
  {
   "cell_type": "code",
   "execution_count": 45,
   "id": "7d01a5ce-f807-4bd2-af43-12047762aee2",
   "metadata": {},
   "outputs": [],
   "source": [
    "Label(root, text=\"Select Voice\", font = 'TimesNewRoman 15 bold', bg=\"#F7AC40\" , fg=\"White\").place(x=340, y=370)\n",
    "Label(root, text=\"Select Voice\", font = 'TimesNewRoman 15 bold', bg=\"#F7AC40\" , fg=\"White\").place(x=540, y=370)\n",
    "#root.mainloop()"
   ]
  },
  {
   "cell_type": "code",
   "execution_count": 46,
   "id": "90a4d3a8-bfdc-4dbd-b371-8db7830e1a38",
   "metadata": {},
   "outputs": [],
   "source": [
    "play_button = PhotoImage(file =   r\"C:\\Users\\zeyneb\\Pictures\\play.PNG\")\n",
    "play_btn = Button(root, text=\"play\", compound= LEFT, image= play_button, bg='White', width = 130, font=\"arial 14 bold\", borderwidth = '0.1c', command = speaknow)\n",
    "play_btn.place(x=435, y=450 )\n",
    "root.mainloop()"
   ]
  },
  {
   "cell_type": "code",
   "execution_count": null,
   "id": "2297076a-4333-434e-aa8d-82b427949e86",
   "metadata": {},
   "outputs": [],
   "source": []
  },
  {
   "cell_type": "code",
   "execution_count": null,
   "id": "af449ee0-2183-44d8-9831-4427bf47bb75",
   "metadata": {},
   "outputs": [],
   "source": []
  },
  {
   "cell_type": "code",
   "execution_count": null,
   "id": "579cccff-7e52-419c-860f-5c01ed596d93",
   "metadata": {},
   "outputs": [],
   "source": []
  }
 ],
 "metadata": {
  "kernelspec": {
   "display_name": "Python 3 (ipykernel)",
   "language": "python",
   "name": "python3"
  },
  "language_info": {
   "codemirror_mode": {
    "name": "ipython",
    "version": 3
   },
   "file_extension": ".py",
   "mimetype": "text/x-python",
   "name": "python",
   "nbconvert_exporter": "python",
   "pygments_lexer": "ipython3",
   "version": "3.11.7"
  }
 },
 "nbformat": 4,
 "nbformat_minor": 5
}
